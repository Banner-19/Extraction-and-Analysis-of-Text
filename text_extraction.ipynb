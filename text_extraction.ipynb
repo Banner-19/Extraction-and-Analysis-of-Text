{
 "cells": [
  {
   "cell_type": "code",
   "execution_count": 2,
   "metadata": {},
   "outputs": [],
   "source": [
    "import urllib.request\n",
    "from bs4 import BeautifulSoup\n",
    "\n",
    "# here we have to pass url and path\n",
    "# (where you want to save your text file)\n",
    "urllib.request.urlretrieve(\"https://insights.blackcoffer.com/rising-it-cities-and-its-impact-on-the-economy-environment-infrastructure-and-city-life-by-the-year-2040-2/\",\n",
    "\t\t\t\t\t\t\"text_file.txt\")\n",
    "\n",
    "file = open(\"text_file.txt\", \"r\")\n",
    "contents = file.read()\n",
    "soup = BeautifulSoup(contents, 'html.parser')\n",
    "\n",
    "f = open(\"test2.txt\", \"w\")\n",
    "\n",
    "# traverse paragraphs from soup\n",
    "for data in soup.find_all(\"p\"):\n",
    "\tsum = data.get_text()\n",
    "\tf.writelines(sum)\n",
    "\n",
    "f.close()\n"
   ]
  }
 ],
 "metadata": {
  "kernelspec": {
   "display_name": "Python 3",
   "language": "python",
   "name": "python3"
  },
  "language_info": {
   "codemirror_mode": {
    "name": "ipython",
    "version": 3
   },
   "file_extension": ".py",
   "mimetype": "text/x-python",
   "name": "python",
   "nbconvert_exporter": "python",
   "pygments_lexer": "ipython3",
   "version": "undefined.undefined.undefined"
  }
 },
 "nbformat": 4,
 "nbformat_minor": 2
}
